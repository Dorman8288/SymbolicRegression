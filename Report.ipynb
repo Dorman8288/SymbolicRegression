{
 "cells": [
  {
   "cell_type": "markdown",
   "metadata": {},
   "source": [
    "<h2>Symbolic Regression using Genetic Programming</h2>\n",
    "in this project we aim to solve one of the classic regression problems using Evolutionary Methods. the formal defenition of the problem is as follows:\n",
    "\n",
    "<i>Given n points from a function F(x), derive the mathematic Formula of F(x)</i>\n",
    "\n",
    "in the first step we should map our problem into a Genetic Programing Enviorment:\n",
    "\n",
    "<i>chromosome</i>: an Expression Tree representic a spcefic formula.\n",
    "\n",
    "<i>fitness(x)</i>: Mean Squered Loss of x with respect to target function F(x)\n",
    "\n",
    "with these two defenitions in place, we can finnaly define our crossover and mutation functions like the following:\n",
    "\n",
    "<i>Crossover(a, b)</i>: swaps a random subtree of <i>a</i> with a random subtree of <i>b</i>.\n",
    "\n",
    "(we choose nodes with the same type to maintain tree integrity )\n",
    "\n",
    "<i>Mutate(a)</i>: swaps out a random node of <i>a</i> with a node of the same type.\n",
    "\n",
    "in the end we should also define our policy for selecting the surviving chromosomes.\n",
    "two selection methods are implemented for this purpose:\n",
    "\n",
    "<i>K_best(k)</i>: in this method we choose the k most valued chromosomes in terms of fitness function.\n",
    "\n",
    "<i>K_Dynamic(k)</i>: in this method we assing a probability to each chromosome porpotional to the fitness of it. then we choose our k winning chromosomes using this probability distribution.\n",
    "\n",
    "\n",
    "\n"
   ]
  },
  {
   "cell_type": "code",
   "execution_count": null,
   "metadata": {},
   "outputs": [],
   "source": []
  }
 ],
 "metadata": {
  "language_info": {
   "name": "python"
  }
 },
 "nbformat": 4,
 "nbformat_minor": 2
}
